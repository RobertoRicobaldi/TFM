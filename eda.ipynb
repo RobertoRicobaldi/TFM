{
 "cells": [
  {
   "cell_type": "markdown",
   "id": "9e9e9d12",
   "metadata": {},
   "source": [
    "# 📊 EDA Notebook\n",
    "Exploratory Data Analysis & generación de métricas para **TFM Fútbol Femenino**."
   ]
  },
  {
   "cell_type": "code",
   "execution_count": null,
   "id": "2c56d84a",
   "metadata": {},
   "outputs": [],
   "source": [
    "import pandas as pd\n",
    "import seaborn as sns\n",
    "import matplotlib.pyplot as plt\n",
    "from pathlib import Path\n",
    "from sklearn.preprocessing import MinMaxScaler\n",
    "\n",
    "EXCEL_CLEAN = Path(r\"C:\\Users\\roric\\Desktop\\Backup 24052025\\Master Python\\Modulo 11\\data_clean.xlsx\")\n",
    "df = pd.read_excel(EXCEL_CLEAN)\n",
    "\n",
    "# Muestra general\n",
    "df.head()"
   ]
  },
  {
   "cell_type": "markdown",
   "id": "6b87538b",
   "metadata": {},
   "source": [
    "## Limpieza de métricas numéricas"
   ]
  },
  {
   "cell_type": "code",
   "execution_count": null,
   "id": "c165ef36",
   "metadata": {},
   "outputs": [],
   "source": [
    "METRICAS = [\n",
    "    \"Pases/90\", \"Pases hacia adelante/90\", \"Precisión pases, %\",\n",
    "    \"Precisión pases hacia adelante, %\", \"Pases largos/90\",\n",
    "    \"Precisión pases largos, %\", \"Longitud media pases, m\",\n",
    "]\n",
    "\n",
    "for col in METRICAS:\n",
    "    df[col] = pd.to_numeric(df[col], errors='coerce')"
   ]
  },
  {
   "cell_type": "markdown",
   "id": "e8983788",
   "metadata": {},
   "source": [
    "## Distribución de Edad"
   ]
  },
  {
   "cell_type": "code",
   "execution_count": null,
   "id": "4f510c49",
   "metadata": {},
   "outputs": [],
   "source": [
    "sns.histplot(df['Edad'].dropna(), bins=15)\n",
    "plt.title('Distribución de Edad')\n",
    "plt.show()"
   ]
  },
  {
   "cell_type": "markdown",
   "id": "aa432773",
   "metadata": {},
   "source": [
    "## Correlación entre métricas"
   ]
  },
  {
   "cell_type": "code",
   "execution_count": null,
   "id": "174b4bb9",
   "metadata": {},
   "outputs": [],
   "source": [
    "corr = df[METRICAS].corr()\n",
    "sns.heatmap(corr, annot=True, cmap='coolwarm')\n",
    "plt.title('Correlación métricas de pase')\n",
    "plt.show()"
   ]
  },
  {
   "cell_type": "markdown",
   "id": "a1d149cf",
   "metadata": {},
   "source": [
    "## Cálculo `Puntuación global`"
   ]
  },
  {
   "cell_type": "code",
   "execution_count": null,
   "id": "b190bbae",
   "metadata": {},
   "outputs": [],
   "source": [
    "PESOS = {\n",
    "    \"Pases/90\": 1.0,\n",
    "    \"Pases hacia adelante/90\": 1.5,\n",
    "    \"Precisión pases, %\": 2.0,\n",
    "    \"Precisión pases hacia adelante, %\": 2.0,\n",
    "    \"Pases largos/90\": 1.0,\n",
    "    \"Precisión pases largos, %\": 1.5,\n",
    "    \"Longitud media pases, m\": 1.0,\n",
    "}\n",
    "\n",
    "scaler = MinMaxScaler()\n",
    "df_scaled = df.copy()\n",
    "df_scaled[METRICAS] = scaler.fit_transform(df_scaled[METRICAS])\n",
    "df_scaled['Puntuación global'] = 10 * sum(df_scaled[m] * PESOS[m] for m in METRICAS) /                                  sum(PESOS.values())\n",
    "df_scaled[['Jugador','Puntuación global']].head()"
   ]
  },
  {
   "cell_type": "markdown",
   "id": "b8c90d53",
   "metadata": {},
   "source": [
    "### Guardar dataset con puntuación"
   ]
  },
  {
   "cell_type": "code",
   "execution_count": null,
   "id": "6ea03645",
   "metadata": {},
   "outputs": [],
   "source": [
    "output_path = EXCEL_CLEAN.parent / 'data_with_score.xlsx'\n",
    "df_scaled.to_excel(output_path, index=False)\n",
    "print(f'Dataset con Puntuación global guardado en {output_path}')"
   ]
  }
 ],
 "metadata": {},
 "nbformat": 4,
 "nbformat_minor": 5
}
