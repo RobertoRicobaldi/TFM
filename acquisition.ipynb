{
 "cells": [
  {
   "cell_type": "markdown",
   "id": "fd8b9cbb",
   "metadata": {},
   "source": [
    "# 📥 Acquisition Notebook\n",
    "Este notebook demuestra la **adquisición de datos** para el TFM.\n",
    "\n",
    "* Carga el archivo Excel desde la ruta local.\n",
    "* Muestra cómo se podría leer desde GitHub / API (comentado).\n",
    "* Guarda una copia _limpia_ (`data_clean.xlsx`) que la app consumirá."
   ]
  },
  {
   "cell_type": "code",
   "execution_count": null,
   "id": "8ee8c69c",
   "metadata": {},
   "outputs": [],
   "source": [
    "import pandas as pd\n",
    "import requests\n",
    "from pathlib import Path\n",
    "\n",
    "# ⚙️ Ruta local (ajústala si cambias de carpeta)\n",
    "EXCEL_PATH = Path(r\"C:\\Users\\roric\\Desktop\\Backup 24052025\\Master Python\\Modulo 11\\Fase Organizativa Principales Ligas Europeas.xlsx\")\n",
    "\n",
    "df_raw = pd.read_excel(EXCEL_PATH)\n",
    "print(f\"Cargadas {df_raw.shape[0]} filas y {df_raw.shape[1]} columnas\")\n",
    "df_raw.head()"
   ]
  },
  {
   "cell_type": "markdown",
   "id": "53f5ad36",
   "metadata": {},
   "source": [
    "## Ejemplo adicional: cargar desde GitHub (comentado)\n",
    "```python\n",
    "# url_github = \"https://raw.githubusercontent.com/tu_usuario/dataset/main/datos.xlsx\"\n",
    "# df_github = pd.read_excel(url_github)\n",
    "```"
   ]
  },
  {
   "cell_type": "markdown",
   "id": "83fb1ae7",
   "metadata": {},
   "source": [
    "### Guardar copia limpia"
   ]
  },
  {
   "cell_type": "code",
   "execution_count": null,
   "id": "6c867fd7",
   "metadata": {},
   "outputs": [],
   "source": [
    "# Eliminamos columnas vacías o irrelevantes (ejemplo)\n",
    "df_clean = df_raw.copy()\n",
    "df_clean = df_clean.dropna(how='all', axis=1)\n",
    "\n",
    "# Guardar\n",
    "clean_path = EXCEL_PATH.parent / \"data_clean.xlsx\"\n",
    "df_clean.to_excel(clean_path, index=False)\n",
    "print(f\"Archivo limpio guardado en {clean_path}\")"
   ]
  }
 ],
 "metadata": {},
 "nbformat": 4,
 "nbformat_minor": 5
}
